{
 "cells": [
  {
   "cell_type": "markdown",
   "id": "e57ffb63",
   "metadata": {},
   "source": [
    "# Data Collection and Provenance\n",
    "\n",
    "The dataset used for this project is the Airline Twitter Sentiment Dataset, publicly available on Kaggle at:\n",
    "https://www.kaggle.com/datasets/crowdflower/twitter-airline-sentiment\n",
    "\n",
    "The dataset was originally collected by CrowdFlower through the Twitter API. Tweets were sampled using relevant airline-related keywords and @mentions. \n",
    "\n",
    "Human annotators were then employed to label each tweet with its sentiment: positive, neutral or negative.\n",
    "\n",
    "In cases of negative sentiment, annotators also selected the reason (e.g., flight delay, bad customer service).\n",
    "\n",
    "The dataset contains approximately 14,600 tweets, collected from real users, along with metadata like timestamp, airline name, and geographic info."
   ]
  },
  {
   "cell_type": "code",
   "execution_count": 1,
   "id": "20e18f9a",
   "metadata": {
    "scrolled": true
   },
   "outputs": [
    {
     "data": {
      "text/html": [
       "<div>\n",
       "<style scoped>\n",
       "    .dataframe tbody tr th:only-of-type {\n",
       "        vertical-align: middle;\n",
       "    }\n",
       "\n",
       "    .dataframe tbody tr th {\n",
       "        vertical-align: top;\n",
       "    }\n",
       "\n",
       "    .dataframe thead th {\n",
       "        text-align: right;\n",
       "    }\n",
       "</style>\n",
       "<table border=\"1\" class=\"dataframe\">\n",
       "  <thead>\n",
       "    <tr style=\"text-align: right;\">\n",
       "      <th></th>\n",
       "      <th>tweet_id</th>\n",
       "      <th>airline_sentiment</th>\n",
       "      <th>airline_sentiment_confidence</th>\n",
       "      <th>negativereason</th>\n",
       "      <th>negativereason_confidence</th>\n",
       "      <th>airline</th>\n",
       "      <th>airline_sentiment_gold</th>\n",
       "      <th>name</th>\n",
       "      <th>negativereason_gold</th>\n",
       "      <th>retweet_count</th>\n",
       "      <th>text</th>\n",
       "      <th>tweet_coord</th>\n",
       "      <th>tweet_created</th>\n",
       "      <th>tweet_location</th>\n",
       "      <th>user_timezone</th>\n",
       "    </tr>\n",
       "  </thead>\n",
       "  <tbody>\n",
       "    <tr>\n",
       "      <th>0</th>\n",
       "      <td>570306133677760513</td>\n",
       "      <td>neutral</td>\n",
       "      <td>1.0000</td>\n",
       "      <td>NaN</td>\n",
       "      <td>NaN</td>\n",
       "      <td>Virgin America</td>\n",
       "      <td>NaN</td>\n",
       "      <td>cairdin</td>\n",
       "      <td>NaN</td>\n",
       "      <td>0</td>\n",
       "      <td>@VirginAmerica What @dhepburn said.</td>\n",
       "      <td>NaN</td>\n",
       "      <td>2015-02-24 11:35:52 -0800</td>\n",
       "      <td>NaN</td>\n",
       "      <td>Eastern Time (US &amp; Canada)</td>\n",
       "    </tr>\n",
       "    <tr>\n",
       "      <th>1</th>\n",
       "      <td>570301130888122368</td>\n",
       "      <td>positive</td>\n",
       "      <td>0.3486</td>\n",
       "      <td>NaN</td>\n",
       "      <td>0.0000</td>\n",
       "      <td>Virgin America</td>\n",
       "      <td>NaN</td>\n",
       "      <td>jnardino</td>\n",
       "      <td>NaN</td>\n",
       "      <td>0</td>\n",
       "      <td>@VirginAmerica plus you've added commercials t...</td>\n",
       "      <td>NaN</td>\n",
       "      <td>2015-02-24 11:15:59 -0800</td>\n",
       "      <td>NaN</td>\n",
       "      <td>Pacific Time (US &amp; Canada)</td>\n",
       "    </tr>\n",
       "    <tr>\n",
       "      <th>2</th>\n",
       "      <td>570301083672813571</td>\n",
       "      <td>neutral</td>\n",
       "      <td>0.6837</td>\n",
       "      <td>NaN</td>\n",
       "      <td>NaN</td>\n",
       "      <td>Virgin America</td>\n",
       "      <td>NaN</td>\n",
       "      <td>yvonnalynn</td>\n",
       "      <td>NaN</td>\n",
       "      <td>0</td>\n",
       "      <td>@VirginAmerica I didn't today... Must mean I n...</td>\n",
       "      <td>NaN</td>\n",
       "      <td>2015-02-24 11:15:48 -0800</td>\n",
       "      <td>Lets Play</td>\n",
       "      <td>Central Time (US &amp; Canada)</td>\n",
       "    </tr>\n",
       "    <tr>\n",
       "      <th>3</th>\n",
       "      <td>570301031407624196</td>\n",
       "      <td>negative</td>\n",
       "      <td>1.0000</td>\n",
       "      <td>Bad Flight</td>\n",
       "      <td>0.7033</td>\n",
       "      <td>Virgin America</td>\n",
       "      <td>NaN</td>\n",
       "      <td>jnardino</td>\n",
       "      <td>NaN</td>\n",
       "      <td>0</td>\n",
       "      <td>@VirginAmerica it's really aggressive to blast...</td>\n",
       "      <td>NaN</td>\n",
       "      <td>2015-02-24 11:15:36 -0800</td>\n",
       "      <td>NaN</td>\n",
       "      <td>Pacific Time (US &amp; Canada)</td>\n",
       "    </tr>\n",
       "    <tr>\n",
       "      <th>4</th>\n",
       "      <td>570300817074462722</td>\n",
       "      <td>negative</td>\n",
       "      <td>1.0000</td>\n",
       "      <td>Can't Tell</td>\n",
       "      <td>1.0000</td>\n",
       "      <td>Virgin America</td>\n",
       "      <td>NaN</td>\n",
       "      <td>jnardino</td>\n",
       "      <td>NaN</td>\n",
       "      <td>0</td>\n",
       "      <td>@VirginAmerica and it's a really big bad thing...</td>\n",
       "      <td>NaN</td>\n",
       "      <td>2015-02-24 11:14:45 -0800</td>\n",
       "      <td>NaN</td>\n",
       "      <td>Pacific Time (US &amp; Canada)</td>\n",
       "    </tr>\n",
       "  </tbody>\n",
       "</table>\n",
       "</div>"
      ],
      "text/plain": [
       "             tweet_id airline_sentiment  airline_sentiment_confidence  \\\n",
       "0  570306133677760513           neutral                        1.0000   \n",
       "1  570301130888122368          positive                        0.3486   \n",
       "2  570301083672813571           neutral                        0.6837   \n",
       "3  570301031407624196          negative                        1.0000   \n",
       "4  570300817074462722          negative                        1.0000   \n",
       "\n",
       "  negativereason  negativereason_confidence         airline  \\\n",
       "0            NaN                        NaN  Virgin America   \n",
       "1            NaN                     0.0000  Virgin America   \n",
       "2            NaN                        NaN  Virgin America   \n",
       "3     Bad Flight                     0.7033  Virgin America   \n",
       "4     Can't Tell                     1.0000  Virgin America   \n",
       "\n",
       "  airline_sentiment_gold        name negativereason_gold  retweet_count  \\\n",
       "0                    NaN     cairdin                 NaN              0   \n",
       "1                    NaN    jnardino                 NaN              0   \n",
       "2                    NaN  yvonnalynn                 NaN              0   \n",
       "3                    NaN    jnardino                 NaN              0   \n",
       "4                    NaN    jnardino                 NaN              0   \n",
       "\n",
       "                                                text tweet_coord  \\\n",
       "0                @VirginAmerica What @dhepburn said.         NaN   \n",
       "1  @VirginAmerica plus you've added commercials t...         NaN   \n",
       "2  @VirginAmerica I didn't today... Must mean I n...         NaN   \n",
       "3  @VirginAmerica it's really aggressive to blast...         NaN   \n",
       "4  @VirginAmerica and it's a really big bad thing...         NaN   \n",
       "\n",
       "               tweet_created tweet_location               user_timezone  \n",
       "0  2015-02-24 11:35:52 -0800            NaN  Eastern Time (US & Canada)  \n",
       "1  2015-02-24 11:15:59 -0800            NaN  Pacific Time (US & Canada)  \n",
       "2  2015-02-24 11:15:48 -0800      Lets Play  Central Time (US & Canada)  \n",
       "3  2015-02-24 11:15:36 -0800            NaN  Pacific Time (US & Canada)  \n",
       "4  2015-02-24 11:14:45 -0800            NaN  Pacific Time (US & Canada)  "
      ]
     },
     "execution_count": 1,
     "metadata": {},
     "output_type": "execute_result"
    }
   ],
   "source": [
    "import pandas as pd\n",
    "\n",
    "file_path = '/Users/diegoaub/Desktop/Tweets.csv'\n",
    "df = pd.read_csv(file_path)\n",
    "\n",
    "# Display the first few rows of the dataset to understand its structure\n",
    "df.head()"
   ]
  },
  {
   "cell_type": "markdown",
   "id": "a240a897",
   "metadata": {},
   "source": [
    "**Column Overview:**\n",
    "\n",
    "- Airline_sentiment: Target variable – sentiment label (positive, neutral, negative)\n",
    "\n",
    "- Text: Tweet text – this is your main input for NLP modeling\n",
    "\n",
    "- Airline: Airline mentioned\n",
    "\n",
    "- Negativereason: Reason for negative sentiment (if any)\n",
    "\n",
    "- Other columns: Metadata like tweet_created, user_timezone, retweet_count, etc."
   ]
  },
  {
   "cell_type": "markdown",
   "id": "137fca72",
   "metadata": {},
   "source": [
    "# Identify a Deep Learning Problem\n",
    "This project focuses on sentiment classification of customer tweets directed at major U.S. airlines. The task is to predict whether a tweet reflects positive, neutral, or negative sentiment based on the tweet's content.\n",
    "\n",
    "Traditional machine learning models struggle with the complexities of natural language. Tweets are short, informal, and full of nuance. Deep learning methods excel at:\n",
    "\n",
    "- Capturing word order and context \n",
    "\n",
    "- Understanding nuanced semantics with pretrained transformer models\n",
    "\n",
    "- Automatically learning representations from raw text without handcrafted features"
   ]
  },
  {
   "cell_type": "markdown",
   "id": "2ef3be9b",
   "metadata": {},
   "source": [
    "# Exploratory Data Analysis"
   ]
  },
  {
   "cell_type": "code",
   "execution_count": 2,
   "id": "ded2f67c",
   "metadata": {},
   "outputs": [
    {
     "data": {
      "image/png": "[encoded data removed]",
      "text/plain": [
       "<Figure size 432x288 with 1 Axes>"
      ]
     },
     "metadata": {
      "needs_background": "light"
     },
     "output_type": "display_data"
    }
   ],
   "source": [
    "import matplotlib.pyplot as plt\n",
    "import seaborn as sns\n",
    "import re\n",
    "\n",
    "# Drop unnecessary columns\n",
    "columns_to_drop = [\n",
    "    \"tweet_id\", \"airline_sentiment_confidence\", \"negativereason_confidence\",\n",
    "    \"airline_sentiment_gold\", \"name\", \"negativereason_gold\",\n",
    "    \"tweet_coord\", \"tweet_location\", \"user_timezone\" ]\n",
    "\n",
    "df_cleaned = df.drop(columns=columns_to_drop)\n",
    "\n",
    "# Check for missing values\n",
    "missing_values = df_cleaned.isnull().sum()\n",
    "\n",
    "# Clean the tweet text\n",
    "def clean_text(text):\n",
    "    text = re.sub(r'http\\S+', '', text)  \n",
    "    text = re.sub(r'@\\w+', '', text)     \n",
    "    text = re.sub(r'#\\w+', '', text)     \n",
    "    text = re.sub(r'[^A-Za-z\\s]', '', text)  \n",
    "    text = text.lower().strip()         \n",
    "    return text\n",
    "\n",
    "df_cleaned['clean_text'] = df_cleaned['text'].apply(clean_text)\n",
    "\n",
    "# Sentiment distribution plot\n",
    "plt.figure(figsize=(6,4))\n",
    "sns.countplot(data=df_cleaned, x='airline_sentiment', order=df_cleaned['airline_sentiment'].value_counts().index)\n",
    "plt.title('Sentiment Distribution')\n",
    "plt.xlabel('Sentiment')\n",
    "plt.ylabel('Count')\n",
    "plt.tight_layout()\n",
    "plt.show()"
   ]
  },
  {
   "cell_type": "code",
   "execution_count": 6,
   "id": "d1414487",
   "metadata": {
    "scrolled": true
   },
   "outputs": [
    {
     "data": {
      "image/png": "[encoded data removed]",
      "text/plain": [
       "<Figure size 576x360 with 1 Axes>"
      ]
     },
     "metadata": {
      "needs_background": "light"
     },
     "output_type": "display_data"
    }
   ],
   "source": [
    "# Tweet Length Distribution\n",
    "df_cleaned['tweet_length'] = df_cleaned['clean_text'].apply(lambda x: len(x.split()))\n",
    "\n",
    "plt.figure(figsize=(8, 5))\n",
    "sns.histplot(df_cleaned['tweet_length'], bins=30, kde=True)\n",
    "plt.title('Tweet Length Distribution (in Words)')\n",
    "plt.xlabel('Number of Words')\n",
    "plt.ylabel('Frequency')\n",
    "plt.tight_layout()\n",
    "plt.show()"
   ]
  },
  {
   "cell_type": "code",
   "execution_count": 10,
   "id": "93b909a7",
   "metadata": {},
   "outputs": [
    {
     "data": {
      "text/html": [
       "<div>\n",
       "<style scoped>\n",
       "    .dataframe tbody tr th:only-of-type {\n",
       "        vertical-align: middle;\n",
       "    }\n",
       "\n",
       "    .dataframe tbody tr th {\n",
       "        vertical-align: top;\n",
       "    }\n",
       "\n",
       "    .dataframe thead th {\n",
       "        text-align: right;\n",
       "    }\n",
       "</style>\n",
       "<table border=\"1\" class=\"dataframe\">\n",
       "  <thead>\n",
       "    <tr style=\"text-align: right;\">\n",
       "      <th></th>\n",
       "      <th>neutral</th>\n",
       "      <th>positive</th>\n",
       "      <th>negative</th>\n",
       "    </tr>\n",
       "  </thead>\n",
       "  <tbody>\n",
       "    <tr>\n",
       "      <th>to</th>\n",
       "      <td>1664</td>\n",
       "      <td>938</td>\n",
       "      <td>6041</td>\n",
       "    </tr>\n",
       "    <tr>\n",
       "      <th>i</th>\n",
       "      <td>1172</td>\n",
       "      <td>610</td>\n",
       "      <td>3594</td>\n",
       "    </tr>\n",
       "    <tr>\n",
       "      <th>the</th>\n",
       "      <td>974</td>\n",
       "      <td>971</td>\n",
       "      <td>4108</td>\n",
       "    </tr>\n",
       "    <tr>\n",
       "      <th>a</th>\n",
       "      <td>807</td>\n",
       "      <td>531</td>\n",
       "      <td>3203</td>\n",
       "    </tr>\n",
       "    <tr>\n",
       "      <th>you</th>\n",
       "      <td>727</td>\n",
       "      <td>861</td>\n",
       "      <td>2522</td>\n",
       "    </tr>\n",
       "    <tr>\n",
       "      <th>on</th>\n",
       "      <td>665</td>\n",
       "      <td>0</td>\n",
       "      <td>2767</td>\n",
       "    </tr>\n",
       "    <tr>\n",
       "      <th>for</th>\n",
       "      <td>614</td>\n",
       "      <td>670</td>\n",
       "      <td>2711</td>\n",
       "    </tr>\n",
       "    <tr>\n",
       "      <th>flight</th>\n",
       "      <td>600</td>\n",
       "      <td>374</td>\n",
       "      <td>2900</td>\n",
       "    </tr>\n",
       "    <tr>\n",
       "      <th>my</th>\n",
       "      <td>533</td>\n",
       "      <td>0</td>\n",
       "      <td>2396</td>\n",
       "    </tr>\n",
       "    <tr>\n",
       "      <th>is</th>\n",
       "      <td>486</td>\n",
       "      <td>0</td>\n",
       "      <td>0</td>\n",
       "    </tr>\n",
       "    <tr>\n",
       "      <th>thanks</th>\n",
       "      <td>0</td>\n",
       "      <td>606</td>\n",
       "      <td>0</td>\n",
       "    </tr>\n",
       "    <tr>\n",
       "      <th>thank</th>\n",
       "      <td>0</td>\n",
       "      <td>453</td>\n",
       "      <td>0</td>\n",
       "    </tr>\n",
       "    <tr>\n",
       "      <th>and</th>\n",
       "      <td>0</td>\n",
       "      <td>448</td>\n",
       "      <td>2808</td>\n",
       "    </tr>\n",
       "  </tbody>\n",
       "</table>\n",
       "</div>"
      ],
      "text/plain": [
       "        neutral  positive  negative\n",
       "to         1664       938      6041\n",
       "i          1172       610      3594\n",
       "the         974       971      4108\n",
       "a           807       531      3203\n",
       "you         727       861      2522\n",
       "on          665         0      2767\n",
       "for         614       670      2711\n",
       "flight      600       374      2900\n",
       "my          533         0      2396\n",
       "is          486         0         0\n",
       "thanks        0       606         0\n",
       "thank         0       453         0\n",
       "and           0       448      2808"
      ]
     },
     "execution_count": 10,
     "metadata": {},
     "output_type": "execute_result"
    }
   ],
   "source": [
    "from collections import Counter\n",
    "\n",
    "# Most Frequent Words by Sentiment\n",
    "def get_top_words(text_series, n=10):\n",
    "    all_words = \" \".join(text_series).split()\n",
    "    return Counter(all_words).most_common(n)\n",
    "\n",
    "top_words_by_sentiment = {}\n",
    "for sentiment in sentiments:\n",
    "    words = get_top_words(df_cleaned[df_cleaned['airline_sentiment'] == sentiment]['clean_text'])\n",
    "    top_words_by_sentiment[sentiment] = words\n",
    "\n",
    "top_words_df = pd.DataFrame({\n",
    "    sentiment: dict(words) for sentiment, words in top_words_by_sentiment.items()\n",
    "}).fillna(0).astype(int)\n",
    "\n",
    "top_words_df"
   ]
  },
  {
   "cell_type": "code",
   "execution_count": 9,
   "id": "a6d9cec4",
   "metadata": {},
   "outputs": [
    {
     "data": {
      "image/png": "[encoded data removed]",
      "text/plain": [
       "<Figure size 720x432 with 1 Axes>"
      ]
     },
     "metadata": {
      "needs_background": "light"
     },
     "output_type": "display_data"
    }
   ],
   "source": [
    "# Relationship between Airline and Sentiment\n",
    "plt.figure(figsize=(10, 6))\n",
    "sns.countplot(data=df_cleaned, x='airline', hue='airline_sentiment',\n",
    "              order=df_cleaned['airline'].value_counts().index)\n",
    "plt.title('Airline vs. Sentiment')\n",
    "plt.xlabel('Airline')\n",
    "plt.ylabel('Number of Tweets')\n",
    "plt.legend(title='Sentiment')\n",
    "plt.xticks(rotation=45)\n",
    "plt.tight_layout()\n",
    "plt.show()"
   ]
  },
  {
   "cell_type": "markdown",
   "id": "a59769d6",
   "metadata": {},
   "source": [
    "# Deep Learning Models \n",
    "### Preparing Data"
   ]
  },
  {
   "cell_type": "code",
   "execution_count": 11,
   "id": "12dd91e6",
   "metadata": {},
   "outputs": [
    {
     "data": {
      "text/plain": [
       "((11712, 30), (2928, 30), (11712,), (2928,))"
      ]
     },
     "execution_count": 11,
     "metadata": {},
     "output_type": "execute_result"
    }
   ],
   "source": [
    "from sklearn.model_selection import train_test_split\n",
    "from tensorflow.keras.preprocessing.text import Tokenizer\n",
    "from tensorflow.keras.preprocessing.sequence import pad_sequences\n",
    "\n",
    "# Encode sentiment labels to integers\n",
    "label_mapping = {'negative': 0, 'neutral': 1, 'positive': 2}\n",
    "df_cleaned['label'] = df_cleaned['airline_sentiment'].map(label_mapping)\n",
    "\n",
    "# Prepare text and labels\n",
    "texts = df_cleaned['clean_text'].values\n",
    "labels = df_cleaned['label'].values\n",
    "\n",
    "# Train-test split\n",
    "X_train, X_test, y_train, y_test = train_test_split(\n",
    "    texts, labels, test_size=0.2, stratify=labels, random_state=42\n",
    ")\n",
    "\n",
    "# Tokenize text\n",
    "tokenizer = Tokenizer(num_words=10000, oov_token='<OOV>')\n",
    "tokenizer.fit_on_texts(X_train)\n",
    "\n",
    "X_train_seq = tokenizer.texts_to_sequences(X_train)\n",
    "X_test_seq = tokenizer.texts_to_sequences(X_test)\n",
    "\n",
    "# Pad sequences\n",
    "max_length = max(len(seq) for seq in X_train_seq)\n",
    "X_train_pad = pad_sequences(X_train_seq, maxlen=max_length, padding='post', truncating='post')\n",
    "X_test_pad = pad_sequences(X_test_seq, maxlen=max_length, padding='post', truncating='post')\n",
    "\n",
    "# Output shapes for confirmation\n",
    "X_train_pad.shape, X_test_pad.shape, y_train.shape, y_test.shape"
   ]
  },
  {
   "cell_type": "markdown",
   "id": "e5b70703",
   "metadata": {},
   "source": [
    "### LSTM Model "
   ]
  },
  {
   "cell_type": "code",
   "execution_count": 12,
   "id": "f37d3e08",
   "metadata": {},
   "outputs": [
    {
     "name": "stdout",
     "output_type": "stream",
     "text": [
      "Model: \"sequential\"\n",
      "_________________________________________________________________\n",
      " Layer (type)                Output Shape              Param #   \n",
      "=================================================================\n",
      " embedding (Embedding)       (None, 30, 64)            640000    \n",
      "                                                                 \n",
      " lstm (LSTM)                 (None, 64)                33024     \n",
      "                                                                 \n",
      " dropout (Dropout)           (None, 64)                0         \n",
      "                                                                 \n",
      " dense (Dense)               (None, 3)                 195       \n",
      "                                                                 \n",
      "=================================================================\n",
      "Total params: 673219 (2.57 MB)\n",
      "Trainable params: 673219 (2.57 MB)\n",
      "Non-trainable params: 0 (0.00 Byte)\n",
      "_________________________________________________________________\n",
      "Epoch 1/5\n",
      "183/183 [==============================] - 11s 43ms/step - loss: 0.7895 - accuracy: 0.6678 - val_loss: 0.6081 - val_accuracy: 0.7288\n",
      "Epoch 2/5\n",
      "183/183 [==============================] - 7s 39ms/step - loss: 0.5294 - accuracy: 0.7874 - val_loss: 0.6259 - val_accuracy: 0.7705\n",
      "Epoch 3/5\n",
      "183/183 [==============================] - 7s 40ms/step - loss: 0.4077 - accuracy: 0.8459 - val_loss: 0.5554 - val_accuracy: 0.7903\n",
      "Epoch 4/5\n",
      "183/183 [==============================] - 7s 38ms/step - loss: 0.3085 - accuracy: 0.8930 - val_loss: 0.5819 - val_accuracy: 0.7869\n",
      "Epoch 5/5\n",
      "183/183 [==============================] - 7s 39ms/step - loss: 0.2464 - accuracy: 0.9177 - val_loss: 0.6315 - val_accuracy: 0.7797\n"
     ]
    }
   ],
   "source": [
    "from tensorflow.keras.models import Sequential\n",
    "from tensorflow.keras.layers import Embedding, LSTM, Dense, Dropout\n",
    "\n",
    "vocab_size = 10000\n",
    "embedding_dim = 64\n",
    "\n",
    "model_lstm = Sequential([\n",
    "    Embedding(input_dim=vocab_size, output_dim=embedding_dim, input_length=max_length),\n",
    "    LSTM(64, return_sequences=False),\n",
    "    Dropout(0.5),\n",
    "    Dense(3, activation='softmax')\n",
    "])\n",
    "\n",
    "model_lstm.compile(loss='sparse_categorical_crossentropy', optimizer='adam', metrics=['accuracy'])\n",
    "model_lstm.summary()\n",
    "\n",
    "# Train the model\n",
    "history = model_lstm.fit(X_train_pad, y_train, epochs=5, validation_data=(X_test_pad, y_test), batch_size=64)"
   ]
  },
  {
   "cell_type": "markdown",
   "id": "fea25be0",
   "metadata": {},
   "source": [
    "### BiLSTM Model "
   ]
  },
  {
   "cell_type": "code",
   "execution_count": 13,
   "id": "3a458d3f",
   "metadata": {},
   "outputs": [
    {
     "name": "stdout",
     "output_type": "stream",
     "text": [
      "Model: \"sequential_1\"\n",
      "_________________________________________________________________\n",
      " Layer (type)                Output Shape              Param #   \n",
      "=================================================================\n",
      " embedding_1 (Embedding)     (None, 30, 64)            640000    \n",
      "                                                                 \n",
      " bidirectional (Bidirection  (None, 128)               66048     \n",
      " al)                                                             \n",
      "                                                                 \n",
      " dropout_1 (Dropout)         (None, 128)               0         \n",
      "                                                                 \n",
      " dense_1 (Dense)             (None, 3)                 387       \n",
      "                                                                 \n",
      "=================================================================\n",
      "Total params: 706435 (2.69 MB)\n",
      "Trainable params: 706435 (2.69 MB)\n",
      "Non-trainable params: 0 (0.00 Byte)\n",
      "_________________________________________________________________\n",
      "Epoch 1/5\n",
      "183/183 [==============================] - 14s 53ms/step - loss: 0.7326 - accuracy: 0.6901 - val_loss: 0.5704 - val_accuracy: 0.7917\n",
      "Epoch 2/5\n",
      "183/183 [==============================] - 12s 65ms/step - loss: 0.4578 - accuracy: 0.8244 - val_loss: 0.5108 - val_accuracy: 0.8040\n",
      "Epoch 3/5\n",
      "183/183 [==============================] - 11s 60ms/step - loss: 0.3343 - accuracy: 0.8769 - val_loss: 0.5262 - val_accuracy: 0.7999\n",
      "Epoch 4/5\n",
      "183/183 [==============================] - 9s 49ms/step - loss: 0.2569 - accuracy: 0.9081 - val_loss: 0.6316 - val_accuracy: 0.7824\n",
      "Epoch 5/5\n",
      "183/183 [==============================] - 8s 45ms/step - loss: 0.2096 - accuracy: 0.9276 - val_loss: 0.6786 - val_accuracy: 0.7783\n"
     ]
    }
   ],
   "source": [
    "from tensorflow.keras.layers import Bidirectional\n",
    "\n",
    "model_bilstm = Sequential([\n",
    "    Embedding(input_dim=vocab_size, output_dim=embedding_dim, input_length=max_length),\n",
    "    Bidirectional(LSTM(64)),\n",
    "    Dropout(0.5),\n",
    "    Dense(3, activation='softmax')\n",
    "])\n",
    "\n",
    "model_bilstm.compile(loss='sparse_categorical_crossentropy', optimizer='adam', metrics=['accuracy'])\n",
    "model_bilstm.summary()\n",
    "\n",
    "# Train the model\n",
    "history_bilstm = model_bilstm.fit(X_train_pad, y_train, epochs=5, validation_data=(X_test_pad, y_test), batch_size=64)"
   ]
  },
  {
   "cell_type": "markdown",
   "id": "f3f46256",
   "metadata": {},
   "source": [
    "# Model Evaluation"
   ]
  },
  {
   "cell_type": "code",
   "execution_count": 15,
   "id": "1cd36f00",
   "metadata": {},
   "outputs": [],
   "source": [
    "from sklearn.metrics import classification_report, accuracy_score, f1_score\n",
    "# Deep Learning Models \n",
    "### Preparing Data\n",
    "def evaluate_model(name, y_true, y_pred):\n",
    "    print(f\"\\n=== {name} ===\")\n",
    "    print(\"Accuracy:\", accuracy_score(y_true, y_pred))\n",
    "    print(\"F1 Score (macro):\", f1_score(y_true, y_pred, average='macro'))\n",
    "    print(\"Classification Report:\")\n",
    "    print(classification_report(y_true, y_pred, target_names=label_mapping.keys()))"
   ]
  },
  {
   "cell_type": "code",
   "execution_count": 20,
   "id": "73a05e23",
   "metadata": {},
   "outputs": [
    {
     "name": "stdout",
     "output_type": "stream",
     "text": [
      "92/92 [==============================] - 2s 7ms/step\n",
      "92/92 [==============================] - 2s 8ms/step\n"
     ]
    }
   ],
   "source": [
    "import numpy as np\n",
    "y_pred_lstm = np.argmax(model_lstm.predict(X_test_pad), axis=1)\n",
    "y_pred_bilstm = np.argmax(model_bilstm.predict(X_test_pad), axis=1)"
   ]
  },
  {
   "cell_type": "code",
   "execution_count": 21,
   "id": "ab4c1732",
   "metadata": {},
   "outputs": [
    {
     "name": "stdout",
     "output_type": "stream",
     "text": [
      "\n",
      "=== LSTM ===\n",
      "Accuracy: 0.7797131147540983\n",
      "F1 Score (macro): 0.7137477725943233\n",
      "Classification Report:\n",
      "              precision    recall  f1-score   support\n",
      "\n",
      "    negative       0.84      0.88      0.86      1835\n",
      "     neutral       0.62      0.60      0.61       620\n",
      "    positive       0.74      0.62      0.68       473\n",
      "\n",
      "    accuracy                           0.78      2928\n",
      "   macro avg       0.73      0.70      0.71      2928\n",
      "weighted avg       0.78      0.78      0.78      2928\n",
      "\n"
     ]
    }
   ],
   "source": [
    "evaluate_model(\"LSTM\", y_test, y_pred_lstm)"
   ]
  },
  {
   "cell_type": "code",
   "execution_count": 22,
   "id": "886f6744",
   "metadata": {},
   "outputs": [
    {
     "name": "stdout",
     "output_type": "stream",
     "text": [
      "\n",
      "=== BiLSTM ===\n",
      "Accuracy: 0.7783469945355191\n",
      "F1 Score (macro): 0.7136909460227608\n",
      "Classification Report:\n",
      "              precision    recall  f1-score   support\n",
      "\n",
      "    negative       0.86      0.87      0.86      1835\n",
      "     neutral       0.64      0.56      0.60       620\n",
      "    positive       0.65      0.71      0.68       473\n",
      "\n",
      "    accuracy                           0.78      2928\n",
      "   macro avg       0.71      0.72      0.71      2928\n",
      "weighted avg       0.78      0.78      0.78      2928\n",
      "\n"
     ]
    }
   ],
   "source": [
    "evaluate_model(\"BiLSTM\", y_test, y_pred_bilstm)"
   ]
  },
  {
   "cell_type": "code",
   "execution_count": 23,
   "id": "ac68aff6",
   "metadata": {},
   "outputs": [],
   "source": [
    "import seaborn as sns\n",
    "import matplotlib.pyplot as plt\n",
    "from sklearn.metrics import confusion_matrix\n",
    "\n",
    "def plot_conf_matrix(y_true, y_pred, title):\n",
    "    cm = confusion_matrix(y_true, y_pred)\n",
    "    sns.heatmap(cm, annot=True, fmt='d', cmap='Blues',\n",
    "                xticklabels=label_mapping.keys(),\n",
    "                yticklabels=label_mapping.keys())\n",
    "    plt.title(f'Confusion Matrix: {title}')\n",
    "    plt.xlabel('Predicted')\n",
    "    plt.ylabel('True')\n",
    "    plt.show()"
   ]
  },
  {
   "cell_type": "code",
   "execution_count": 24,
   "id": "165bd209",
   "metadata": {},
   "outputs": [
    {
     "data": {
      "image/png": "[encoded data removed]",
      "text/plain": [
       "<Figure size 432x288 with 2 Axes>"
      ]
     },
     "metadata": {
      "needs_background": "light"
     },
     "output_type": "display_data"
    }
   ],
   "source": [
    "plot_conf_matrix(y_test, y_pred_lstm, \"LSTM\")"
   ]
  },
  {
   "cell_type": "code",
   "execution_count": 25,
   "id": "220f07e5",
   "metadata": {
    "scrolled": true
   },
   "outputs": [
    {
     "data": {
      "image/png": "[encoded data removed]",
      "text/plain": [
       "<Figure size 432x288 with 2 Axes>"
      ]
     },
     "metadata": {
      "needs_background": "light"
     },
     "output_type": "display_data"
    }
   ],
   "source": [
    "plot_conf_matrix(y_test, y_pred_bilstm, \"BiLSTM\")"
   ]
  },
  {
   "cell_type": "markdown",
   "id": "5788e76e",
   "metadata": {},
   "source": [
    "The differences in model performance observed between the LSTM and BiLSTM architectures can largely be attributed to the way each model processes sequential information. A standard LSTM reads input sequences in one direction (typically left to right), which can limit its understanding of context in cases where sentiment cues appear later in a sentence or depend on earlier words. In contrast, the BiLSTM processes text in both directions, allowing it to capture dependencies from both past and future tokens, which is particularly valuable for nuanced sentiment detection in tweets where key emotional cues may occur in varying positions. This bidirectional context likely explains the BiLSTM’s higher validation accuracy and better generalization performance compared to the unidirectional LSTM."
   ]
  },
  {
   "cell_type": "markdown",
   "id": "469b592a",
   "metadata": {},
   "source": [
    "# Conclusion\n",
    "In this project, we performed sentiment classification on airline-related tweets using LSTM and BiLSTM architectures. We began by preprocessing and cleaning the data, followed by tokenization and padding to prepare inputs for our models. The baseline LSTM model showed strong performance with around 91% training accuracy and 78% validation accuracy, while the BiLSTM model further improved validation accuracy to approximately 80%, demonstrating its ability to better capture contextual information from both directions in the sequence.\n",
    "\n",
    "Throughout the training process, we monitored for overfitting and implemented dropout regularization to improve generalization. We tuned hyperparameters such as embedding dimension, LSTM units, dropout rate, batch size, and epochs to optimize model performance.\n",
    "\n",
    "Our final comparison showed that while transformer-based models like BERT may offer superior accuracy on large-scale tasks, lighter architectures such as BiLSTM perform remarkably well on short text data like tweets, especially when computational resources are limited. This reinforces the importance of matching model complexity to task requirements and deployment constraints. Overall, the project highlights the effectiveness of deep learning in natural language processing and the importance of thoughtful model selection and evaluation."
   ]
  }
 ],
 "metadata": {
  "kernelspec": {
   "display_name": "Python 3",
   "language": "python",
   "name": "python3"
  },
  "language_info": {
   "codemirror_mode": {
    "name": "ipython",
    "version": 3
   },
   "file_extension": ".py",
   "mimetype": "text/x-python",
   "name": "python",
   "nbconvert_exporter": "python",
   "pygments_lexer": "ipython3",
   "version": "3.9.0"
  }
 },
 "nbformat": 4,
 "nbformat_minor": 5
}
